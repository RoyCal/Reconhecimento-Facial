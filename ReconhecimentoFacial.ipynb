{
 "cells": [
  {
   "cell_type": "code",
   "execution_count": 1,
   "id": "fcb5e615",
   "metadata": {},
   "outputs": [
    {
     "ename": "KeyboardInterrupt",
     "evalue": "",
     "output_type": "error",
     "traceback": [
      "\u001b[1;31m---------------------------------------------------------------------------\u001b[0m",
      "\u001b[1;31mKeyboardInterrupt\u001b[0m                         Traceback (most recent call last)",
      "\u001b[1;32md:\\UFPB\\Python\\Codigos\\ReconhecimentoFacial\\ReconhecimentoFacial.ipynb Cell 1\u001b[0m in \u001b[0;36m<cell line: 10>\u001b[1;34m()\u001b[0m\n\u001b[0;32m     <a href='vscode-notebook-cell:/d%3A/UFPB/Python/Codigos/ReconhecimentoFacial/ReconhecimentoFacial.ipynb#W0sZmlsZQ%3D%3D?line=18'>19</a>\u001b[0m             desenho\u001b[39m.\u001b[39mdraw_detection(imagem, rosto) \u001b[39m# desenha o rosto na imagem\u001b[39;00m\n\u001b[0;32m     <a href='vscode-notebook-cell:/d%3A/UFPB/Python/Codigos/ReconhecimentoFacial/ReconhecimentoFacial.ipynb#W0sZmlsZQ%3D%3D?line=20'>21</a>\u001b[0m     cv2\u001b[39m.\u001b[39mimshow(\u001b[39m\"\u001b[39m\u001b[39mRostos na sua webcam\u001b[39m\u001b[39m\"\u001b[39m, imagem) \u001b[39m# mostra a imagem da webcam para a gente\u001b[39;00m\n\u001b[1;32m---> <a href='vscode-notebook-cell:/d%3A/UFPB/Python/Codigos/ReconhecimentoFacial/ReconhecimentoFacial.ipynb#W0sZmlsZQ%3D%3D?line=21'>22</a>\u001b[0m     \u001b[39mif\u001b[39;00m cv2\u001b[39m.\u001b[39;49mwaitKey(\u001b[39m5\u001b[39;49m) \u001b[39m==\u001b[39m \u001b[39m27\u001b[39m: \u001b[39m# ESC # garante que o código vai ser pausado ao apertar ESC (código 27) e que o código vai esperar 5 milisegundos a cada leitura da webcam\u001b[39;00m\n\u001b[0;32m     <a href='vscode-notebook-cell:/d%3A/UFPB/Python/Codigos/ReconhecimentoFacial/ReconhecimentoFacial.ipynb#W0sZmlsZQ%3D%3D?line=22'>23</a>\u001b[0m         \u001b[39mbreak\u001b[39;00m\n\u001b[0;32m     <a href='vscode-notebook-cell:/d%3A/UFPB/Python/Codigos/ReconhecimentoFacial/ReconhecimentoFacial.ipynb#W0sZmlsZQ%3D%3D?line=23'>24</a>\u001b[0m webcam\u001b[39m.\u001b[39mrelease() \u001b[39m# encerra a conexão com a webcam\u001b[39;00m\n",
      "\u001b[1;31mKeyboardInterrupt\u001b[0m: "
     ]
    },
    {
     "ename": "",
     "evalue": "",
     "output_type": "error",
     "traceback": [
      "\u001b[1;31mThe Kernel crashed while executing code in the the current cell or a previous cell. Please review the code in the cell(s) to identify a possible cause of the failure. Click <a href='https://aka.ms/vscodeJupyterKernelCrash'>here</a> for more info. View Jupyter <a href='command:jupyter.viewOutput'>log</a> for further details."
     ]
    }
   ],
   "source": [
    "import cv2 # importar o opencv -> para instalar rode pip install opencv-python\n",
    "import mediapipe as mp # para instalar rode pip install mediapipe\n",
    "\n",
    "webcam = cv2.VideoCapture(0) # para conectar o python com a nossa webcam.\n",
    "\n",
    "reconhecimento_rosto = mp.solutions.face_detection # ativando a solução de reconhecimento de rosto\n",
    "desenho = mp.solutions.drawing_utils # ativando a solução de desenho\n",
    "reconhecedor_rosto = reconhecimento_rosto.FaceDetection() # criando o item que consegue ler uma imagem e reconhecer os rostos ali dentro\n",
    "\n",
    "while webcam.isOpened():\n",
    "    validacao, frame = webcam.read() # lê a imagem da webcam\n",
    "    if not validacao:\n",
    "        break\n",
    "    imagem = frame\n",
    "    lista_rostos = reconhecedor_rosto.process(imagem) # usa o reconhecedor para criar uma lista com os rostos reconhecidos\n",
    "    \n",
    "    if lista_rostos.detections: # caso algum rosto tenha sido reconhecido\n",
    "        for rosto in lista_rostos.detections: # para cada rosto que foi reconhecido\n",
    "            desenho.draw_detection(imagem, rosto) # desenha o rosto na imagem\n",
    "    \n",
    "    cv2.imshow(\"Rostos na sua webcam\", imagem) # mostra a imagem da webcam para a gente\n",
    "    if cv2.waitKey(5) == 27: # ESC # garante que o código vai ser pausado ao apertar ESC (código 27) e que o código vai esperar 5 milisegundos a cada leitura da webcam\n",
    "        break\n",
    "webcam.release() # encerra a conexão com a webcam\n",
    "cv2.destroyAllWindows() # fecha a janela que mostra o que a webcam está vendo"
   ]
  }
 ],
 "metadata": {
  "kernelspec": {
   "display_name": "Python 3.10.4 64-bit",
   "language": "python",
   "name": "python3"
  },
  "language_info": {
   "codemirror_mode": {
    "name": "ipython",
    "version": 3
   },
   "file_extension": ".py",
   "mimetype": "text/x-python",
   "name": "python",
   "nbconvert_exporter": "python",
   "pygments_lexer": "ipython3",
   "version": "3.10.4"
  },
  "vscode": {
   "interpreter": {
    "hash": "f38d4dc4e11e7c1d6ad8c168fd5f0ba4308c0a077bdca1d8bc05049158d620ba"
   }
  }
 },
 "nbformat": 4,
 "nbformat_minor": 5
}
